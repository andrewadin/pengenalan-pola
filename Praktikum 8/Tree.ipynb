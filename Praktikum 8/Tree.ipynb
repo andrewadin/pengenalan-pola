{
 "cells": [
  {
   "cell_type": "code",
   "execution_count": 1,
   "metadata": {},
   "outputs": [],
   "source": [
    "import pandas as pd\n",
    "from sklearn.tree import DecisionTreeClassifier \n",
    "from sklearn.model_selection import train_test_split\n",
    "from sklearn import datasets\n",
    "import matplotlib.pyplot as plt  \n",
    "from sklearn.preprocessing import StandardScaler\n",
    "from sklearn.linear_model import LogisticRegression\n",
    "from sklearn.pipeline import make_pipeline\n",
    "from sklearn.ensemble import BaggingClassifier\n",
    "from sklearn.model_selection import GridSearchCV\n",
    "from sklearn import metrics\n",
    "from sklearn.tree import DecisionTreeRegressor\n",
    "from sklearn.metrics import r2_score\n",
    "from sklearn.tree import export_text\n",
    "from sklearn.tree import export_graphviz\n",
    "import graphviz\n",
    "from sklearn import tree"
   ]
  },
  {
   "cell_type": "code",
   "execution_count": 2,
   "metadata": {},
   "outputs": [
    {
     "name": "stdout",
     "output_type": "stream",
     "text": [
      "Accuracy: 0.671875\n"
     ]
    }
   ],
   "source": [
    "#Melakukan pembacaaan dataset \n",
    "col_names = ['pregnant', 'glucose', 'bp', 'skin', 'insulin', 'bmi', 'pedigree', 'age', 'label']\n",
    "# load dataset\n",
    "pima = pd.read_csv(\"pima-indians-diabetes.csv\", header=None, names=col_names)\n",
    "#print(pima) \n",
    "\n",
    "#split dataset in features and target variable\n",
    "feature_cols = ['pregnant', 'insulin', 'bmi', 'age','glucose','bp','pedigree']\n",
    "x = pima[feature_cols] # Features\n",
    "y = pima.label # Target variable\n",
    "\n",
    "\n",
    "# Split dataset into training set and test set\n",
    "X_train, X_test, y_train, y_test = train_test_split(x, y, test_size=0.25, random_state=3)\n",
    "\n",
    "\n",
    "    # Membuat objek DT\n",
    "     # Dapat dioptimalkan dengan menghitung Entropy  \n",
    "clf = DecisionTreeClassifier()\n",
    "clf = DecisionTreeClassifier(criterion=\"entropy\", max_depth=3)\n",
    "\n",
    "# Melakukan Pelatihan DT \n",
    "clf = clf.fit(X_train,y_train)\n",
    "\n",
    "# Memprediksi \n",
    "y_pred = clf.predict(X_test)\n",
    "\n",
    "# Menghitung akurasi model \n",
    "print(\"Accuracy:\",metrics.accuracy_score(y_test, y_pred))"
   ]
  },
  {
   "cell_type": "code",
   "execution_count": 3,
   "metadata": {},
   "outputs": [
    {
     "data": {
      "text/html": [
       "<div>\n",
       "<style scoped>\n",
       "    .dataframe tbody tr th:only-of-type {\n",
       "        vertical-align: middle;\n",
       "    }\n",
       "\n",
       "    .dataframe tbody tr th {\n",
       "        vertical-align: top;\n",
       "    }\n",
       "\n",
       "    .dataframe thead th {\n",
       "        text-align: right;\n",
       "    }\n",
       "</style>\n",
       "<table border=\"1\" class=\"dataframe\">\n",
       "  <thead>\n",
       "    <tr style=\"text-align: right;\">\n",
       "      <th></th>\n",
       "      <th>ID</th>\n",
       "      <th>crim</th>\n",
       "      <th>zn</th>\n",
       "      <th>indus</th>\n",
       "      <th>chas</th>\n",
       "      <th>nox</th>\n",
       "      <th>rm</th>\n",
       "      <th>age</th>\n",
       "      <th>dis</th>\n",
       "      <th>rad</th>\n",
       "      <th>tax</th>\n",
       "      <th>ptratio</th>\n",
       "      <th>black</th>\n",
       "      <th>lstat</th>\n",
       "      <th>medv</th>\n",
       "    </tr>\n",
       "  </thead>\n",
       "  <tbody>\n",
       "    <tr>\n",
       "      <th>0</th>\n",
       "      <td>1</td>\n",
       "      <td>0.00632</td>\n",
       "      <td>18.0</td>\n",
       "      <td>2.31</td>\n",
       "      <td>0</td>\n",
       "      <td>0.538</td>\n",
       "      <td>6.575</td>\n",
       "      <td>65.2</td>\n",
       "      <td>4.0900</td>\n",
       "      <td>1</td>\n",
       "      <td>296</td>\n",
       "      <td>15.3</td>\n",
       "      <td>396.90</td>\n",
       "      <td>4.98</td>\n",
       "      <td>24.0</td>\n",
       "    </tr>\n",
       "    <tr>\n",
       "      <th>1</th>\n",
       "      <td>2</td>\n",
       "      <td>0.02731</td>\n",
       "      <td>0.0</td>\n",
       "      <td>7.07</td>\n",
       "      <td>0</td>\n",
       "      <td>0.469</td>\n",
       "      <td>6.421</td>\n",
       "      <td>78.9</td>\n",
       "      <td>4.9671</td>\n",
       "      <td>2</td>\n",
       "      <td>242</td>\n",
       "      <td>17.8</td>\n",
       "      <td>396.90</td>\n",
       "      <td>9.14</td>\n",
       "      <td>21.6</td>\n",
       "    </tr>\n",
       "    <tr>\n",
       "      <th>2</th>\n",
       "      <td>4</td>\n",
       "      <td>0.03237</td>\n",
       "      <td>0.0</td>\n",
       "      <td>2.18</td>\n",
       "      <td>0</td>\n",
       "      <td>0.458</td>\n",
       "      <td>6.998</td>\n",
       "      <td>45.8</td>\n",
       "      <td>6.0622</td>\n",
       "      <td>3</td>\n",
       "      <td>222</td>\n",
       "      <td>18.7</td>\n",
       "      <td>394.63</td>\n",
       "      <td>2.94</td>\n",
       "      <td>33.4</td>\n",
       "    </tr>\n",
       "    <tr>\n",
       "      <th>3</th>\n",
       "      <td>5</td>\n",
       "      <td>0.06905</td>\n",
       "      <td>0.0</td>\n",
       "      <td>2.18</td>\n",
       "      <td>0</td>\n",
       "      <td>0.458</td>\n",
       "      <td>7.147</td>\n",
       "      <td>54.2</td>\n",
       "      <td>6.0622</td>\n",
       "      <td>3</td>\n",
       "      <td>222</td>\n",
       "      <td>18.7</td>\n",
       "      <td>396.90</td>\n",
       "      <td>5.33</td>\n",
       "      <td>36.2</td>\n",
       "    </tr>\n",
       "    <tr>\n",
       "      <th>4</th>\n",
       "      <td>7</td>\n",
       "      <td>0.08829</td>\n",
       "      <td>12.5</td>\n",
       "      <td>7.87</td>\n",
       "      <td>0</td>\n",
       "      <td>0.524</td>\n",
       "      <td>6.012</td>\n",
       "      <td>66.6</td>\n",
       "      <td>5.5605</td>\n",
       "      <td>5</td>\n",
       "      <td>311</td>\n",
       "      <td>15.2</td>\n",
       "      <td>395.60</td>\n",
       "      <td>12.43</td>\n",
       "      <td>22.9</td>\n",
       "    </tr>\n",
       "  </tbody>\n",
       "</table>\n",
       "</div>"
      ],
      "text/plain": [
       "   ID     crim    zn  indus  chas    nox     rm   age     dis  rad  tax  \\\n",
       "0   1  0.00632  18.0   2.31     0  0.538  6.575  65.2  4.0900    1  296   \n",
       "1   2  0.02731   0.0   7.07     0  0.469  6.421  78.9  4.9671    2  242   \n",
       "2   4  0.03237   0.0   2.18     0  0.458  6.998  45.8  6.0622    3  222   \n",
       "3   5  0.06905   0.0   2.18     0  0.458  7.147  54.2  6.0622    3  222   \n",
       "4   7  0.08829  12.5   7.87     0  0.524  6.012  66.6  5.5605    5  311   \n",
       "\n",
       "   ptratio   black  lstat  medv  \n",
       "0     15.3  396.90   4.98  24.0  \n",
       "1     17.8  396.90   9.14  21.6  \n",
       "2     18.7  394.63   2.94  33.4  \n",
       "3     18.7  396.90   5.33  36.2  \n",
       "4     15.2  395.60  12.43  22.9  "
      ]
     },
     "execution_count": 3,
     "metadata": {},
     "output_type": "execute_result"
    }
   ],
   "source": [
    "boston_dataset = pd.read_csv(\"boston.csv\")\n",
    "boston = pd.DataFrame(boston_dataset)\n",
    "boston.head()"
   ]
  },
  {
   "cell_type": "code",
   "execution_count": 4,
   "metadata": {},
   "outputs": [
    {
     "name": "stdout",
     "output_type": "stream",
     "text": [
      "      ID     crim   zn  indus  chas    nox     rm   age     dis  rad    tax  \\\n",
      "0  154.0  2.14918  0.0  19.58   0.0  0.871  5.709  98.5  1.6232  5.0  403.0   \n",
      "\n",
      "   ptratio   black  lstat  Predicted Price  \n",
      "0     14.7  261.95  15.79             18.7  \n",
      "[20.46382979 18.06        7.         16.4        31.32       28.2\n",
      " 16.33333333 20.46382979 15.         50.         20.46382979 31.32\n",
      " 27.66666667 13.775       7.         23.2        20.46382979 24.61818182\n",
      " 28.2        10.49       41.45        7.         20.46382979 24.61818182\n",
      " 13.53333333 20.46382979 14.03076923 34.61       19.3875     31.32\n",
      " 13.775      50.         34.61       20.46382979 25.46       15.\n",
      " 20.46382979 20.46382979 20.46382979 20.46382979 20.46382979 23.3\n",
      " 34.61       31.32        7.          7.         50.         13.775\n",
      " 27.66666667 14.03076923 16.33333333 19.3875     19.3875     20.46382979\n",
      " 30.56666667 13.775      13.53333333 50.         20.46382979 31.32\n",
      " 31.32       20.46382979 27.66666667 19.3875     22.45714286 19.3875\n",
      " 30.56666667 20.46382979 14.03076923 34.61       34.61       23.05\n",
      " 25.48571429 23.125      27.66666667  7.         34.61       19.3875\n",
      " 20.46382979 13.775      31.05       20.46382979 25.46       19.3875\n",
      " 20.46382979 25.48571429 24.61818182 18.7        20.46382979 20.46382979\n",
      " 31.32       24.61818182 18.7        20.46382979 14.03076923 20.46382979\n",
      " 23.2        22.45714286 23.3        50.        ]\n",
      "R-Squared =  0.7579770395792164\n"
     ]
    }
   ],
   "source": [
    "boston['medv'] = boston_dataset['medv']  # Assign the target column\n",
    "\n",
    "names = boston.columns[:-1]  # Feature names\n",
    "\n",
    "array = boston.values\n",
    "\n",
    "X = array[:,0:14]\n",
    "Y = array[:,14]\n",
    "\n",
    "\n",
    "# Split the data into training and testing sets\n",
    "X_train, X_test, Y_train, Y_test = train_test_split(X, Y, test_size=0.3, random_state=1234)\n",
    "\n",
    "# Initialize the Decision Tree Regressor model\n",
    "model = DecisionTreeRegressor(criterion='squared_error', max_depth=None, max_features=None,\n",
    "                              max_leaf_nodes=50,\n",
    "                              min_samples_leaf=1,\n",
    "                              min_samples_split=2)\n",
    "\n",
    "# Evaluasi\n",
    "rt = model.fit(X_train, Y_train)\n",
    "rt\n",
    "\n",
    "import random as rnd\n",
    "\n",
    "# Generate a random new data point for prediction\n",
    "rnd.seed(123458)\n",
    "X_new = X[rnd.randrange(X.shape[0])]\n",
    "X_new = X_new.reshape(1, 14)  # Reshape to match the model's input shape\n",
    "\n",
    "# Prediksi Model\n",
    "YHat = model.predict(X_new)\n",
    "\n",
    "# Menampilkan hasil prediksi\n",
    "df = pd.DataFrame(X_new, columns=names)\n",
    "df[\"Predicted Price\"] = YHat\n",
    "print(df.head(1))\n",
    "\n",
    "# Predict using the model for the test set\n",
    "YHat = model.predict(X_test)\n",
    "print(YHat)\n",
    "\n",
    "# Calculate R-squared\n",
    "r2 = r2_score(Y_test, YHat)\n",
    "print(\"R-Squared = \", r2)"
   ]
  },
  {
   "cell_type": "code",
   "execution_count": 5,
   "metadata": {},
   "outputs": [
    {
     "name": "stderr",
     "output_type": "stream",
     "text": [
      "d:\\Backup Andrew\\DEV\\Praktikum Pengenalan Pola\\venv\\Lib\\site-packages\\sklearn\\ensemble\\_base.py:156: FutureWarning: `base_estimator` was renamed to `estimator` in version 1.2 and will be removed in 1.4.\n",
      "  warnings.warn(\n"
     ]
    },
    {
     "name": "stdout",
     "output_type": "stream",
     "text": [
      "Model test Score: 0.958,  Model training Score: 0.960\n"
     ]
    }
   ],
   "source": [
    "#Load cancer dataset\n",
    "bc = datasets.load_breast_cancer()\n",
    "X = bc.data\n",
    "y = bc.target\n",
    "\n",
    "#membagi dataset\n",
    "X_train, X_test, y_train, y_test = train_test_split(X, y, test_size=0.25, random_state=1, stratify=y)\n",
    "\n",
    "#Melakukan pipelining\n",
    "pipeline = make_pipeline(StandardScaler(),\n",
    "                        LogisticRegression(random_state=1))\n",
    "\n",
    "#Skema bagging\n",
    "bgclassifier = BaggingClassifier(base_estimator=pipeline, n_estimators=100,\n",
    "                                 max_features=8,\n",
    "                                 max_samples=80,\n",
    "                                 random_state=1, n_jobs=5)\n",
    "\n",
    "bgclassifier.fit(X_train, y_train)\n",
    "\n",
    "print('Model test Score: %.3f, ' %bgclassifier.score(X_test, y_test),\n",
    "      'Model training Score: %.3f' %bgclassifier.score(X_train, y_train))"
   ]
  },
  {
   "cell_type": "code",
   "execution_count": 6,
   "metadata": {},
   "outputs": [
    {
     "data": {
      "text/plain": [
       "'DTree.pdf'"
      ]
     },
     "execution_count": 6,
     "metadata": {},
     "output_type": "execute_result"
    }
   ],
   "source": [
    "# Export the decision tree to a tree.dot file\n",
    "dot_data = export_graphviz(clf, out_file=None,\n",
    "                           feature_names=feature_cols,\n",
    "                           class_names=['0', '1'],\n",
    "                           filled=True, rounded=True,\n",
    "                           special_characters=True)\n",
    "\n",
    "# Visualize the decision tree using Graphviz\n",
    "graph = graphviz.Source(dot_data)\n",
    "graph.render('DTree', view=True)"
   ]
  },
  {
   "cell_type": "code",
   "execution_count": 7,
   "metadata": {},
   "outputs": [
    {
     "data": {
      "text/plain": [
       "'CARTtree.pdf'"
      ]
     },
     "execution_count": 7,
     "metadata": {},
     "output_type": "execute_result"
    }
   ],
   "source": [
    "tree_rules = export_text(model, feature_names=names.tolist())\n",
    "# print(\"Decision Tree Rules:\\n\", tree_rules)\n",
    "dot_data = tree.export_graphviz(model, out_file=None,\n",
    "                                feature_names=names.tolist(),\n",
    "                                filled=True, rounded=True,\n",
    "                                special_characters=True)\n",
    "graph = graphviz.Source(dot_data)\n",
    "graph.render(\"CARTtree\")"
   ]
  },
  {
   "cell_type": "code",
   "execution_count": 8,
   "metadata": {},
   "outputs": [
    {
     "name": "stdout",
     "output_type": "stream",
     "text": [
      "Model test Score: 0.965,  Model training Score: 0.991\n"
     ]
    }
   ],
   "source": [
    "# Load cancer dataset\n",
    "bc = datasets.load_breast_cancer()\n",
    "X = bc.data\n",
    "y = bc.target\n",
    "\n",
    "# Membagi dataset\n",
    "X_train, X_test, y_train, y_test = train_test_split(X, y, test_size=0.25, random_state=1, stratify=y)\n",
    "\n",
    "# Melakukan pipelining\n",
    "pipeline = make_pipeline(StandardScaler(),\n",
    "                        LogisticRegression(random_state=1))\n",
    "\n",
    "# Latih model Logistic Regression pada data latih\n",
    "pipeline.fit(X_train, y_train)\n",
    "\n",
    "# Evaluasi performa model pada data uji dan latih\n",
    "test_score = pipeline.score(X_test, y_test)\n",
    "train_score = pipeline.score(X_train, y_train)\n",
    "\n",
    "print('Model test Score: %.3f, ' % test_score,\n",
    "      'Model training Score: %.3f' % train_score)"
   ]
  }
 ],
 "metadata": {
  "kernelspec": {
   "display_name": "venv",
   "language": "python",
   "name": "python3"
  },
  "language_info": {
   "codemirror_mode": {
    "name": "ipython",
    "version": 3
   },
   "file_extension": ".py",
   "mimetype": "text/x-python",
   "name": "python",
   "nbconvert_exporter": "python",
   "pygments_lexer": "ipython3",
   "version": "3.11.2"
  },
  "orig_nbformat": 4
 },
 "nbformat": 4,
 "nbformat_minor": 2
}
